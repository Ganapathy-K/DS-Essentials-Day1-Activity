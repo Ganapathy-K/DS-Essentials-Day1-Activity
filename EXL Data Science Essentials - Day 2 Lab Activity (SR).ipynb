{
 "cells": [
  {
   "cell_type": "markdown",
   "id": "170134c8-0673-4bb3-aeb5-102b6b9b1668",
   "metadata": {},
   "source": [
    "### Quick Practice 3 : \n",
    "##### - Create a list with all float values\n",
    "##### - Create a dictionary with Emp ID as Key and Names as Values\n",
    "##### - Use Numpy to create 1D , 2D and 3D Arrays. (3 Arrays)"
   ]
  },
  {
   "cell_type": "code",
   "execution_count": 1,
   "id": "07cad0a8-99e0-43fd-9d78-f7c0ac4cecf9",
   "metadata": {},
   "outputs": [],
   "source": [
    "import numpy as np\n",
    "import pandas as pd"
   ]
  },
  {
   "cell_type": "code",
   "execution_count": 2,
   "id": "25082a31-ba25-46e5-84fa-4004f75deb8f",
   "metadata": {},
   "outputs": [
    {
     "name": "stdin",
     "output_type": "stream",
     "text": [
      "Enter length of list: 4\n"
     ]
    },
    {
     "name": "stdout",
     "output_type": "stream",
     "text": [
      "Enter list element 1:\n"
     ]
    },
    {
     "name": "stdin",
     "output_type": "stream",
     "text": [
      " 7.2\n"
     ]
    },
    {
     "name": "stdout",
     "output_type": "stream",
     "text": [
      "Enter list element 2:\n"
     ]
    },
    {
     "name": "stdin",
     "output_type": "stream",
     "text": [
      " -2.5\n"
     ]
    },
    {
     "name": "stdout",
     "output_type": "stream",
     "text": [
      "Enter list element 3:\n"
     ]
    },
    {
     "name": "stdin",
     "output_type": "stream",
     "text": [
      " 0\n"
     ]
    },
    {
     "name": "stdout",
     "output_type": "stream",
     "text": [
      "Enter list element 4:\n"
     ]
    },
    {
     "name": "stdin",
     "output_type": "stream",
     "text": [
      " 1f\n"
     ]
    },
    {
     "name": "stdout",
     "output_type": "stream",
     "text": [
      "Please enter a float value\n",
      "Enter list element 4:\n"
     ]
    },
    {
     "name": "stdin",
     "output_type": "stream",
     "text": [
      " 5\n"
     ]
    },
    {
     "data": {
      "text/plain": [
       "[7.2, -2.5, 0.0, 5.0]"
      ]
     },
     "execution_count": 2,
     "metadata": {},
     "output_type": "execute_result"
    }
   ],
   "source": [
    "# Activity 1\n",
    "float_values_list = []\n",
    "float_values_list_length = int(input('Enter length of list:'))\n",
    "for i in range(float_values_list_length):\n",
    "    while True:\n",
    "        try:\n",
    "            print(('Enter list element %d:')%(i+1))\n",
    "            value = float(input())\n",
    "            float_values_list.append(value)\n",
    "            break\n",
    "        except:\n",
    "            print('Please enter a float value')\n",
    "float_values_list"
   ]
  },
  {
   "cell_type": "code",
   "execution_count": 3,
   "id": "14dd3469-da32-419f-ab62-0a192db430c4",
   "metadata": {},
   "outputs": [
    {
     "name": "stdin",
     "output_type": "stream",
     "text": [
      "Enter number of employees: 3\n"
     ]
    },
    {
     "name": "stdout",
     "output_type": "stream",
     "text": [
      "Enter the employee ID & name of employee 0:\n"
     ]
    },
    {
     "name": "stdin",
     "output_type": "stream",
     "text": [
      " 14106\n",
      " James\n"
     ]
    },
    {
     "name": "stdout",
     "output_type": "stream",
     "text": [
      "Enter the employee ID & name of employee 1:\n"
     ]
    },
    {
     "name": "stdin",
     "output_type": "stream",
     "text": [
      " 14032\n",
      " Elizabeth\n"
     ]
    },
    {
     "name": "stdout",
     "output_type": "stream",
     "text": [
      "Enter the employee ID & name of employee 2:\n"
     ]
    },
    {
     "name": "stdin",
     "output_type": "stream",
     "text": [
      " 16259\n",
      " Wilson\n"
     ]
    },
    {
     "data": {
      "text/plain": [
       "{'14106': 'James', '14032': 'Elizabeth', '16259': 'Wilson'}"
      ]
     },
     "execution_count": 3,
     "metadata": {},
     "output_type": "execute_result"
    }
   ],
   "source": [
    "# Activity 2\n",
    "employees_dict = {}\n",
    "employees_dict_length = int(input('Enter number of employees:'))\n",
    "for emp in range(employees_dict_length):\n",
    "    print('Enter the employee ID & name of employee %d:'%(emp))\n",
    "    key = str(input())\n",
    "    value = str(input())\n",
    "    employees_dict[key] = value\n",
    "employees_dict"
   ]
  },
  {
   "cell_type": "code",
   "execution_count": 8,
   "id": "9c2023f7-7ef7-4a55-a135-3fdff8fb4896",
   "metadata": {},
   "outputs": [
    {
     "name": "stdin",
     "output_type": "stream",
     "text": [
      "Enter array's dimension: 1\n",
      "Enter number of elements: 7\n"
     ]
    },
    {
     "name": "stdout",
     "output_type": "stream",
     "text": [
      "[40, 12, 32, 52, 39, 57, 28]\n"
     ]
    },
    {
     "name": "stdin",
     "output_type": "stream",
     "text": [
      "Continue? [Y/N] Y\n"
     ]
    },
    {
     "name": "stdout",
     "output_type": "stream",
     "text": [
      "\n"
     ]
    },
    {
     "name": "stdin",
     "output_type": "stream",
     "text": [
      "Enter array's dimension: 2\n",
      "Enter number of rows: 2\n",
      "Enter number of columns: 5\n"
     ]
    },
    {
     "name": "stdout",
     "output_type": "stream",
     "text": [
      "[[28 52 77 91 65]\n",
      " [22 88 15 63 62]]\n"
     ]
    },
    {
     "name": "stdin",
     "output_type": "stream",
     "text": [
      "Continue? [Y/N] Y\n"
     ]
    },
    {
     "name": "stdout",
     "output_type": "stream",
     "text": [
      "\n"
     ]
    },
    {
     "name": "stdin",
     "output_type": "stream",
     "text": [
      "Enter array's dimension: 3\n",
      "Enter number of axes: 3\n",
      "Enter number of rows: 2\n",
      "Enter number of columns: 4\n"
     ]
    },
    {
     "name": "stdout",
     "output_type": "stream",
     "text": [
      "[[[10 47 88 24]\n",
      "  [ 6 53 20 39]]\n",
      "\n",
      " [[30 34 92 55]\n",
      "  [ 5 92 53 33]]\n",
      "\n",
      " [[93 33 36 27]\n",
      "  [14 85  7 40]]]\n"
     ]
    },
    {
     "name": "stdin",
     "output_type": "stream",
     "text": [
      "Continue? [Y/N] N\n"
     ]
    }
   ],
   "source": [
    "# Activity 3\n",
    "while True:\n",
    "    array = []\n",
    "    array_type = int(input('Enter array\\'s dimension:'))\n",
    "    if array_type == 1:\n",
    "        x = int(input('Enter number of elements:'))\n",
    "        for i in range(x):\n",
    "            array.append(np.random.randint(100))\n",
    "        arr = array\n",
    "    elif array_type == 2:\n",
    "        x = int(input('Enter number of rows:'))\n",
    "        y = int(input('Enter number of columns:'))\n",
    "        for i in range(x*y):\n",
    "            array.append(np.random.randint(100))\n",
    "        arr = np.array(array).reshape(x,y)\n",
    "    elif array_type == 3:\n",
    "        x = int(input('Enter number of axes:'))\n",
    "        y = int(input('Enter number of rows:'))\n",
    "        z = int(input('Enter number of columns:'))\n",
    "        for i in range(x*y*z):\n",
    "            array.append(np.random.randint(100))\n",
    "        arr = np.array(array).reshape(x,y,z)\n",
    "    else:\n",
    "        print('Invalid array dimension')\n",
    "    print(arr)\n",
    "    ans = str(input('Continue? [Y/N]'))\n",
    "    if ans == 'N':\n",
    "        break\n",
    "    print()"
   ]
  },
  {
   "cell_type": "code",
   "execution_count": null,
   "id": "a23bb09c-97e9-4441-a069-5e56f7c18a0c",
   "metadata": {},
   "outputs": [],
   "source": []
  }
 ],
 "metadata": {
  "kernelspec": {
   "display_name": "Python 3 (ipykernel)",
   "language": "python",
   "name": "python3"
  },
  "language_info": {
   "codemirror_mode": {
    "name": "ipython",
    "version": 3
   },
   "file_extension": ".py",
   "mimetype": "text/x-python",
   "name": "python",
   "nbconvert_exporter": "python",
   "pygments_lexer": "ipython3",
   "version": "3.12.4"
  }
 },
 "nbformat": 4,
 "nbformat_minor": 5
}
