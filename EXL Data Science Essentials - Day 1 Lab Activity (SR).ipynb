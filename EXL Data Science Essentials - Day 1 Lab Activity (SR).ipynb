{
 "cells": [
  {
   "cell_type": "markdown",
   "id": "b56b106d-a6dd-4db7-a7e7-416cb838444b",
   "metadata": {},
   "source": [
    "#### > Write python script to open railway ticket booking portal & enter following details from users\n",
    "###### o First name, last name, age, gender, boarding point, destination\n",
    "#### > Ask sign in with username, password (password length > 5, age > 16)\n",
    "#### > Login for booking username & password"
   ]
  },
  {
   "cell_type": "code",
   "execution_count": 1,
   "id": "dadfe1cc-63ba-49d1-9567-5c91728dd95a",
   "metadata": {},
   "outputs": [],
   "source": [
    "import numpy as np\n",
    "import pandas as pd"
   ]
  },
  {
   "cell_type": "code",
   "execution_count": 2,
   "id": "691c06db-8722-41ec-8507-1378b1697221",
   "metadata": {},
   "outputs": [
    {
     "name": "stdin",
     "output_type": "stream",
     "text": [
      "Please enter your username: GuidovanRossum@railwaybooking.co.us\n",
      "Please enter your password: 1a\n"
     ]
    },
    {
     "name": "stdout",
     "output_type": "stream",
     "text": [
      "Please enter a password with length higher than 5\n"
     ]
    },
    {
     "name": "stdin",
     "output_type": "stream",
     "text": [
      "Please enter your password: password\n"
     ]
    },
    {
     "name": "stdout",
     "output_type": "stream",
     "text": [
      "\n",
      "Welcome to the railway ticket booking portal!\n",
      "\n"
     ]
    },
    {
     "name": "stdin",
     "output_type": "stream",
     "text": [
      "Please enter your first name: Guido\n",
      "Please enter your last name: van Rossum\n",
      "Please enter your age: 16\n"
     ]
    },
    {
     "name": "stdout",
     "output_type": "stream",
     "text": [
      "You are not old enough to use the portal\n"
     ]
    },
    {
     "name": "stdin",
     "output_type": "stream",
     "text": [
      "Please enter your age: 68\n",
      "Please enter your gender: Male\n",
      "Please enter your boarding point: Amsterdam\n",
      "Please enter your destination: San Francisco\n"
     ]
    },
    {
     "name": "stdout",
     "output_type": "stream",
     "text": [
      "\n",
      "Guido, van Rossum, 68, Male, Amsterdam, San Francisco\n"
     ]
    }
   ],
   "source": [
    "username = str(input('Please enter your username:'))\n",
    "while True:\n",
    "    password = str(input('Please enter your password:'))\n",
    "    if len(password) > 5:\n",
    "        break\n",
    "    else:\n",
    "        print('Please enter a password with length higher than 5')\n",
    "print('\\nWelcome to the railway ticket booking portal!\\n')\n",
    "first_name = str(input('Please enter your first name:'))\n",
    "last_name = str(input('Please enter your last name:'))\n",
    "while True:\n",
    "    age = int(input('Please enter your age:'))\n",
    "    if age > 16:\n",
    "        break\n",
    "    else:\n",
    "        print('You are not old enough to use the portal')\n",
    "gender = str(input('Please enter your gender:'))\n",
    "boarding_point = str(input('Please enter your boarding point:'))\n",
    "destination = str(input('Please enter your destination:'))\n",
    "print(('\\n%s, %s, %d, %s, %s, %s')%(first_name, last_name, age, gender, boarding_point, destination))"
   ]
  },
  {
   "cell_type": "code",
   "execution_count": null,
   "id": "819bcbb7-76f3-44bf-9e75-bdf8dd289fb3",
   "metadata": {},
   "outputs": [],
   "source": []
  }
 ],
 "metadata": {
  "kernelspec": {
   "display_name": "Python 3 (ipykernel)",
   "language": "python",
   "name": "python3"
  },
  "language_info": {
   "codemirror_mode": {
    "name": "ipython",
    "version": 3
   },
   "file_extension": ".py",
   "mimetype": "text/x-python",
   "name": "python",
   "nbconvert_exporter": "python",
   "pygments_lexer": "ipython3",
   "version": "3.12.4"
  }
 },
 "nbformat": 4,
 "nbformat_minor": 5
}
