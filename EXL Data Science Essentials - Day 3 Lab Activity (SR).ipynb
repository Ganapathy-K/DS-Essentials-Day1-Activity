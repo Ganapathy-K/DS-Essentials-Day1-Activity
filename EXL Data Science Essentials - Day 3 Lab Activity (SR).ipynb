{
 "cells": [
  {
   "cell_type": "code",
   "execution_count": null,
   "id": "2e8796ba-f31b-40bf-bf3c-750057f61045",
   "metadata": {},
   "outputs": [],
   "source": [
    "# ## axis=0 means that the operation is performed down the columns of a 2D array a in turn.\n",
    "# z2\n",
    "# np.argmin(z2,axis=1) # returns the indices of min element  along rows\n",
    "# np.argmax(z2,axis=1)# returns the indices of max element along rows\n",
    "# # On the other hand, axis=1 means that the operation is performed across the rows of array\n",
    "# np.argmin(z,axis=1) # returns the indices of min element  along rows\n",
    "# np.argmax(z,axis=0) # returns the indices of max element  along columns"
   ]
  },
  {
   "cell_type": "markdown",
   "id": "4c7607ae-44d3-4580-bb48-6de8375593ef",
   "metadata": {},
   "source": [
    "##### Create a NumPy array with elements ranging from 0 to 9. Then, reshape it into a 3x3 matrix.\r\n",
    "##### Create a 2D array of Shape 2*4 with defined elements in row1 - M1\r\n",
    "##### Create a 2D identify matrix of shape 3*3- M2\r\n",
    "##### Create a 2D ones matrix with Shape 2*4-M3\r\n",
    "##### Compute: 1. M1+M3 2. M3M1 3. 4M2\r\n",
    "##### Given two NumPy arrays A and B, perform element-wise addition, subtraction, multiplication, and division.\r\n",
    "##### Extract the middle row of a given 2D NumPy array. Then, extract the elements at odd indices from the last column.\r\n",
    "##### Compute the mean, median, and standard deviation of a given NumPy array across rows and columns.\r\n",
    "##### Concatenate two 1D NumPy arrays vertically and horizontally, respectively.\r\n",
    "##### Given a 1D NumPy array of ages, find all ages greater than 30.\r\n",
    "##### Given a 2D NumPy array representing student scores and a 1D array representing score weights, compute weighted averages for each student.\r\n",
    "##### Generate a random 3x3 NumPy array of integers between 0 and 100."
   ]
  },
  {
   "cell_type": "code",
   "execution_count": 1,
   "id": "b743b360-0376-45ed-ab06-fc797d503865",
   "metadata": {},
   "outputs": [],
   "source": [
    "import numpy as np\n",
    "import pandas as pd"
   ]
  },
  {
   "cell_type": "code",
   "execution_count": 2,
   "id": "972decd5-5a0a-44ed-b23f-f8bf358a005a",
   "metadata": {},
   "outputs": [
    {
     "name": "stdout",
     "output_type": "stream",
     "text": [
      "[[1 2 3]\n",
      " [4 5 6]\n",
      " [7 8 9]]\n"
     ]
    }
   ],
   "source": [
    "# Create a NumPy array with elements ranging from 0 to 9. Then, reshape it into a 3x3 matrix.\n",
    "arr = np.arange(1,10).reshape(3,3)\n",
    "print(arr)"
   ]
  },
  {
   "cell_type": "code",
   "execution_count": 3,
   "id": "e87b5388-0d1a-4275-b901-c32a17a61ab6",
   "metadata": {},
   "outputs": [
    {
     "data": {
      "text/plain": [
       "array([[1, 2, 3, 4],\n",
       "       [5, 6, 7, 8]])"
      ]
     },
     "execution_count": 3,
     "metadata": {},
     "output_type": "execute_result"
    }
   ],
   "source": [
    "# Create a 2D array of Shape 2*4 with defined elements in row1 - M1\n",
    "M1 = np.arange(1,9).reshape(2,4)\n",
    "M1"
   ]
  },
  {
   "cell_type": "code",
   "execution_count": 4,
   "id": "2eb1773d-0b62-4eda-8c99-9b4a6fcb092b",
   "metadata": {},
   "outputs": [
    {
     "data": {
      "text/plain": [
       "array([[1, 0, 0],\n",
       "       [0, 1, 0],\n",
       "       [0, 0, 1]])"
      ]
     },
     "execution_count": 4,
     "metadata": {},
     "output_type": "execute_result"
    }
   ],
   "source": [
    "# Create a 2D identity matrix of shape 3*3- M2\n",
    "M2 = np.identity(3, dtype=int)\n",
    "M2"
   ]
  },
  {
   "cell_type": "code",
   "execution_count": 5,
   "id": "a261de34-308c-476f-a1d7-a6080df5210e",
   "metadata": {},
   "outputs": [
    {
     "data": {
      "text/plain": [
       "array([[1, 1, 1, 1],\n",
       "       [1, 1, 1, 1]])"
      ]
     },
     "execution_count": 5,
     "metadata": {},
     "output_type": "execute_result"
    }
   ],
   "source": [
    "# Create a 2D ones matrix with Shape 2*4 - M3\n",
    "M3 = np.ones(8,dtype=int).reshape(2,4)\n",
    "M3"
   ]
  },
  {
   "cell_type": "code",
   "execution_count": 6,
   "id": "497600f4-3663-4ec9-aa30-8e2db7e7be54",
   "metadata": {},
   "outputs": [
    {
     "name": "stdout",
     "output_type": "stream",
     "text": [
      "M1 + M3:\n",
      " [[2 3 4 5]\n",
      " [6 7 8 9]]\n",
      "\n",
      "M1 x M3:\n",
      " [[1 2 3 4]\n",
      " [5 6 7 8]]\n",
      "\n",
      "4 x M2:\n",
      " [[4 0 0]\n",
      " [0 4 0]\n",
      " [0 0 4]]\n"
     ]
    }
   ],
   "source": [
    "# Compute: 1. M1+M3 2. M3M1 3. 4M2\n",
    "print('M1 + M3:\\n', M1+M3)\n",
    "print('\\nM1 x M3:\\n', M1*M3)\n",
    "print('\\n4 x M2:\\n', 4*M2)"
   ]
  },
  {
   "cell_type": "code",
   "execution_count": 7,
   "id": "021f4ae2-d882-40e7-87bd-aff2d15e5062",
   "metadata": {},
   "outputs": [
    {
     "name": "stdout",
     "output_type": "stream",
     "text": [
      "Addition: [5 7 9]\n",
      "Subtraction: [-3 -3 -3]\n",
      "Multiplication: [ 4 10 18]\n",
      "Division: [0.25 0.4  0.5 ]\n"
     ]
    }
   ],
   "source": [
    "# Given two NumPy arrays A and B, perform element-wise addition, subtraction, multiplication, and division.\n",
    "A = np.array([1, 2, 3])\n",
    "B = np.array([4, 5, 6])\n",
    "print(\"Addition:\", A + B)\n",
    "print(\"Subtraction:\", A - B)\n",
    "print(\"Multiplication:\", A * B)\n",
    "print(\"Division:\", A / B)"
   ]
  },
  {
   "cell_type": "code",
   "execution_count": 8,
   "id": "8061cbdd-9ff9-41e2-ad56-729778968be2",
   "metadata": {},
   "outputs": [
    {
     "name": "stdout",
     "output_type": "stream",
     "text": [
      "Middle row: [4 5 6]\n",
      "Odd indices of last column: [6]\n"
     ]
    }
   ],
   "source": [
    "# Extract the middle row of a given 2D NumPy array. Then, extract the elements at odd indices from the last column.\n",
    "arr = np.array([[1, 2, 3], [4, 5, 6], [7, 8, 9]])\n",
    "middle_row = arr[1]\n",
    "odd_indices_last_column = arr[1::2, -1]\n",
    "print(\"Middle row:\", middle_row)\n",
    "print(\"Odd indices of last column:\", odd_indices_last_column)"
   ]
  },
  {
   "cell_type": "code",
   "execution_count": 9,
   "id": "20c4aec9-3244-4dbb-828c-778517bea3c2",
   "metadata": {},
   "outputs": [
    {
     "name": "stdout",
     "output_type": "stream",
     "text": [
      "Mean: 3.0\n",
      "Median: 3.0\n",
      "Standard deviation: 1.4142135623730951\n"
     ]
    }
   ],
   "source": [
    "# Compute the mean, median, and standard deviation of a given NumPy array across rows and columns.\n",
    "arr = np.arange(1, 6)\n",
    "print('Mean:', np.mean(arr))\n",
    "print('Median:', np.median(arr))\n",
    "print('Standard deviation:', np.std(arr))"
   ]
  },
  {
   "cell_type": "code",
   "execution_count": 10,
   "id": "62907599-2794-44d4-ba7a-a1b7a8bef48d",
   "metadata": {},
   "outputs": [
    {
     "name": "stdout",
     "output_type": "stream",
     "text": [
      "Horizontal concatenation:\n",
      " [1 2 3 4 5 6]\n",
      "Vertical concatenation:\n",
      " [[1 2 3]\n",
      " [4 5 6]]\n"
     ]
    }
   ],
   "source": [
    "# Concatenate two 1D NumPy arrays vertically and horizontally, respectively.\n",
    "arr1 = np.array([1, 2, 3])\n",
    "arr2 = np.array([4, 5, 6])\n",
    "print('Horizontal concatenation:\\n', np.hstack([arr1, arr2]))\n",
    "print('Vertical concatenation:\\n', np.vstack([arr1, arr2]))"
   ]
  },
  {
   "cell_type": "code",
   "execution_count": 11,
   "id": "8b946fb5-7075-4793-aedd-c457e530744e",
   "metadata": {},
   "outputs": [
    {
     "data": {
      "text/plain": [
       "array([35, 40, 45])"
      ]
     },
     "execution_count": 11,
     "metadata": {},
     "output_type": "execute_result"
    }
   ],
   "source": [
    "# Given a 1D NumPy array of ages, find all ages greater than 30.\n",
    "ages = np.arange(25, 46, 5)\n",
    "ages[ages > 30]"
   ]
  },
  {
   "cell_type": "code",
   "execution_count": 12,
   "id": "6afd8183-6f24-49bb-a2e9-38cfc589412c",
   "metadata": {},
   "outputs": [
    {
     "data": {
      "text/plain": [
       "array([81. , 88.3])"
      ]
     },
     "execution_count": 12,
     "metadata": {},
     "output_type": "execute_result"
    }
   ],
   "source": [
    "# Given a 2D NumPy array representing student scores and a 1D array representing score weights, compute weighted averages for each student.\n",
    "scores = np.array([[80, 90, 70], [85, 88, 92]])\n",
    "weights = np.array([0.3, 0.4, 0.3])\n",
    "np.dot(scores, weights)"
   ]
  },
  {
   "cell_type": "code",
   "execution_count": 13,
   "id": "a36b7fd7-64ce-4b59-b36f-268ae6c23c48",
   "metadata": {},
   "outputs": [
    {
     "data": {
      "text/plain": [
       "array([[33,  8, 37],\n",
       "       [20, 61, 48],\n",
       "       [ 5, 91, 71]])"
      ]
     },
     "execution_count": 13,
     "metadata": {},
     "output_type": "execute_result"
    }
   ],
   "source": [
    "# Generate a random 3x3 NumPy array of integers between 0 and 100.\n",
    "arr = np.random.randint(0, 100, size=(3, 3))\n",
    "arr"
   ]
  },
  {
   "cell_type": "code",
   "execution_count": null,
   "id": "2c57bd88-56d5-425c-9040-322709333893",
   "metadata": {},
   "outputs": [],
   "source": []
  }
 ],
 "metadata": {
  "kernelspec": {
   "display_name": "Python 3 (ipykernel)",
   "language": "python",
   "name": "python3"
  },
  "language_info": {
   "codemirror_mode": {
    "name": "ipython",
    "version": 3
   },
   "file_extension": ".py",
   "mimetype": "text/x-python",
   "name": "python",
   "nbconvert_exporter": "python",
   "pygments_lexer": "ipython3",
   "version": "3.12.4"
  }
 },
 "nbformat": 4,
 "nbformat_minor": 5
}
