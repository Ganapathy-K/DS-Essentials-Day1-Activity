{
 "cells": [
  {
   "cell_type": "code",
   "execution_count": null,
   "id": "c74481fe-8f16-4c34-a1e0-a509429fca1f",
   "metadata": {},
   "outputs": [],
   "source": [
    "# Initialize necessary libraries\n",
    "import numpy as np\n",
    "import pandas as pd"
   ]
  },
  {
   "cell_type": "markdown",
   "id": "fa6aff7e-1997-411c-b97c-ee09c300346b",
   "metadata": {},
   "source": [
    "#### Activity 1"
   ]
  },
  {
   "cell_type": "code",
   "execution_count": null,
   "id": "c4776e72-9dc1-443f-a9ac-0d887dfba482",
   "metadata": {
    "scrolled": true
   },
   "outputs": [],
   "source": [
    "# Create and display dataframe consisting of three columns\n",
    "details = \\\n",
    "{'Brand':pd.Series(['Nokia','Asus',\"Nokia\",\"Nokia\",'Samsung',\"ABC\",'Micromax','Apple','MI','Zen',\"Apple\"]), \n",
    " 'Price':pd.Series([10000,8000,12500,7000,40000,12000,12999,13999,59999]), \n",
    " 'Rating(10)':pd.Series([7,6.5,8.5,9,8,9.5,7,9])\n",
    "}\n",
    " \n",
    "df = pd.DataFrame(details)\n",
    "df"
   ]
  },
  {
   "cell_type": "code",
   "execution_count": null,
   "id": "94695258-d47f-4054-b931-aba1a0b720b5",
   "metadata": {
    "scrolled": true
   },
   "outputs": [],
   "source": [
    "# describe the data - Check missing values in given\n",
    "df.isnull().sum()"
   ]
  },
  {
   "cell_type": "code",
   "execution_count": null,
   "id": "d3b434fa-7ee7-439f-b9b5-883da5948382",
   "metadata": {
    "scrolled": true
   },
   "outputs": [],
   "source": [
    "## replace missing values\n",
    "\n",
    "# Fill null values in Price column\n",
    "a = df['Price'].median() # Calculatin median of Price column\n",
    "df['Price'] = df['Price'].fillna(a) # Filling null values of Price column with median\n",
    "\n",
    "# Fill null values in Price column\n",
    "b = df['Rating(10)'].median() # Calculatin median of Rating column\n",
    "df['Rating(10)'] = df['Rating(10)'].fillna(b) # Filling null values of Rating column with median\n",
    "\n",
    "df.transpose() # Displaying transposed DataFrame to save space"
   ]
  },
  {
   "cell_type": "code",
   "execution_count": null,
   "id": "ceda3946-fe8f-4860-a291-09fe3d76667b",
   "metadata": {},
   "outputs": [],
   "source": [
    "# describe data again\n",
    "df.describe().transpose() # Displaying transposed results to save space"
   ]
  },
  {
   "cell_type": "code",
   "execution_count": null,
   "id": "277b129a-e530-4d7d-bdb1-51aa303affa1",
   "metadata": {},
   "outputs": [],
   "source": [
    "# mean, mode and median column wise\n",
    "for col in df:\n",
    "    if df[col].dtypes == 'object':\n",
    "        print('Mean:\\t\\t NA\\nMedian:\\t\\t NA')\n",
    "        print('Mode:\\t\\t',df[col].mode())\n",
    "    else:\n",
    "        print('Mean:\\t\\t',df[col].mean())\n",
    "        print('Median:\\t\\t',df[col].median())\n",
    "        print('Mode:\\t\\t',df[col].mode())\n",
    "    print()"
   ]
  },
  {
   "cell_type": "markdown",
   "id": "e90e48d6-16de-4003-b32b-1c6e07726b62",
   "metadata": {},
   "source": [
    "#### Activity 2"
   ]
  },
  {
   "cell_type": "code",
   "execution_count": null,
   "id": "1a55dee2-9d3a-46e0-a012-268c35ad5430",
   "metadata": {
    "scrolled": true
   },
   "outputs": [],
   "source": [
    "s1 = pd.read_csv(r\"https://raw.githubusercontent.com/suyashi29/Tableau/refs/heads/master/Exam_Data3.csv\") # Read table #1\n",
    "s1.head(2)"
   ]
  },
  {
   "cell_type": "code",
   "execution_count": null,
   "id": "94fe2e86-ee72-461d-8a4a-7a8a9280ebb1",
   "metadata": {},
   "outputs": [],
   "source": [
    "s2 = pd.read_excel(r\"https://raw.githubusercontent.com/suyashi29/Tableau/refs/heads/master/Exam_data2.xlsx\") # Read table #2\n",
    "s2.head(2)"
   ]
  },
  {
   "cell_type": "code",
   "execution_count": null,
   "id": "87f9e09d-9e66-47ce-84a9-d7925eb52d46",
   "metadata": {
    "scrolled": true
   },
   "outputs": [],
   "source": [
    "unique_df2_cols = s2.columns.difference(s1.columns).to_list() # Unique columns from dataframe 2\n",
    "unique_df2_cols.append('ROLL NO') # Append column upon which the join between two dataframes will be done\n",
    "s12 = pd.merge(s1, s2[unique_df2_cols], how='outer', on='ROLL NO') # Merge both dataframes\n",
    "s12.head(2)"
   ]
  },
  {
   "cell_type": "code",
   "execution_count": null,
   "id": "59bad3d4-ac55-470c-9281-77f93b621d89",
   "metadata": {},
   "outputs": [],
   "source": [
    "s12.describe() # Display central tendencies of numerical columns"
   ]
  },
  {
   "cell_type": "code",
   "execution_count": null,
   "id": "170e6549-3928-49ec-bfdb-0a87116da96b",
   "metadata": {},
   "outputs": [],
   "source": [
    "import requests \n",
    "import pandas.io.json \n",
    "url = \"https://api.exchangerate-api.com/v4/latest/USD\" \n",
    "df = pd.read_json(url) # Normalize semi-structured JSON data into a flat table (DataFrame)\n",
    "df.head()"
   ]
  },
  {
   "cell_type": "code",
   "execution_count": null,
   "id": "e9f4aa39-0cbd-4096-83f1-68b66ad4b95b",
   "metadata": {},
   "outputs": [],
   "source": []
  }
 ],
 "metadata": {
  "kernelspec": {
   "display_name": "Python 3 (ipykernel)",
   "language": "python",
   "name": "python3"
  },
  "language_info": {
   "codemirror_mode": {
    "name": "ipython",
    "version": 3
   },
   "file_extension": ".py",
   "mimetype": "text/x-python",
   "name": "python",
   "nbconvert_exporter": "python",
   "pygments_lexer": "ipython3",
   "version": "3.12.4"
  }
 },
 "nbformat": 4,
 "nbformat_minor": 5
}
